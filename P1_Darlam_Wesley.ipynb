{
  "nbformat": 4,
  "nbformat_minor": 0,
  "metadata": {
    "colab": {
      "provenance": [],
      "authorship_tag": "ABX9TyO7H/DDVA4yhElnlQTws0nL",
      "include_colab_link": true
    },
    "kernelspec": {
      "name": "python3",
      "display_name": "Python 3"
    },
    "language_info": {
      "name": "python"
    }
  },
  "cells": [
    {
      "cell_type": "markdown",
      "metadata": {
        "id": "view-in-github",
        "colab_type": "text"
      },
      "source": [
        "<a href=\"https://colab.research.google.com/github/DarlamLima/Fatec/blob/main/P1_Darlam_Wesley.ipynb\" target=\"_parent\"><img src=\"https://colab.research.google.com/assets/colab-badge.svg\" alt=\"Open In Colab\"/></a>"
      ]
    },
    {
      "cell_type": "code",
      "execution_count": 1,
      "metadata": {
        "colab": {
          "base_uri": "https://localhost:8080/"
        },
        "id": "ccOTgrLIH9k_",
        "outputId": "203414d7-58e6-4a2c-800c-37477e2501ea"
      },
      "outputs": [
        {
          "output_type": "stream",
          "name": "stdout",
          "text": [
            "digite seu nome: darlam\n",
            "bem vindo darlam\n"
          ]
        }
      ],
      "source": [
        "nome = input(\"digite seu nome: \")\n",
        "print(\"bem vindo\", nome)"
      ]
    },
    {
      "cell_type": "code",
      "source": [
        "valor1 = float(input(\"digite um numero\"))\n",
        "valor2 = float(input(\"digite outro numero\"))\n",
        "\n",
        "valorSub = valor1 - valor2\n",
        "valoeSoma = valor1 + valor2\n",
        "valorMulti = valor1 * valor2\n",
        "valorDivi = valor1 / valor2\n",
        "\n",
        "print(\"soma:\", valoeSoma, \"subtração:\", valorSub,\n",
        "       \"multiplicação:\", valorMulti, \"divisão:\", valorDivi)"
      ],
      "metadata": {
        "colab": {
          "base_uri": "https://localhost:8080/"
        },
        "id": "kZF2dUiaJd1j",
        "outputId": "e86749ae-9199-40b4-a583-547b9c939cf5"
      },
      "execution_count": 2,
      "outputs": [
        {
          "output_type": "stream",
          "name": "stdout",
          "text": [
            "digite um numero10\n",
            "digite outro numero50\n",
            "soma: 60.0 subtração: -40.0 multiplicação: 500.0 divisdão: 0.2\n"
          ]
        }
      ]
    },
    {
      "cell_type": "code",
      "source": [
        "dinheiro = float(input(\"digite quasnto dinheiro você vai gastar: \"))\n",
        "\n",
        "def calculoCusto(valor1):\n",
        "    combustivel = valor1 / 5\n",
        "    return combustivel\n",
        "\n",
        "def calculoKm(valor1):\n",
        "    km = valor1 * 20\n",
        "    return km\n",
        "\n",
        "print(\"litros:\", calculoCusto(dinheiro))\n",
        "print(\"distancia em kms:\", calculoKm(calculoCusto(dinheiro)))"
      ],
      "metadata": {
        "colab": {
          "base_uri": "https://localhost:8080/"
        },
        "id": "Cmbw3-MiLUEJ",
        "outputId": "7ddc648f-1b8d-43ab-80d8-7a1b09d4e201"
      },
      "execution_count": 3,
      "outputs": [
        {
          "output_type": "stream",
          "name": "stdout",
          "text": [
            "digite quasnto dinheiro você vai gastar: 50\n",
            "litros: 10.0\n",
            "distancia em kms: 200.0\n"
          ]
        }
      ]
    },
    {
      "cell_type": "code",
      "source": [
        "v1 = 15\n",
        "v2 = 10\n",
        "v3 = 5\n",
        "v4 = 0\n",
        "\n",
        "a = (v1 == 10) and (v2 == 10)\n",
        "print(a)\n",
        "\n",
        "b = (v1 == 15) and (v2 == 10)\n",
        "print(b)\n",
        "\n",
        "c = (v4 == 1) or (v3 == 4)\n",
        "print(c)\n",
        "\n",
        "d = (v1 > 10 and v2 < 15) and (v3 < 10 and v4 == 0)\n",
        "print(d)\n",
        "\n",
        "e = (v1 < 10 and v2 > 15) or (v3 > 5 or v4 == 0)\n",
        "print(e)"
      ],
      "metadata": {
        "colab": {
          "base_uri": "https://localhost:8080/"
        },
        "id": "vxMO6dMPLUE7",
        "outputId": "28059dbb-66e9-4fad-e850-4bc1f771bb96"
      },
      "execution_count": 5,
      "outputs": [
        {
          "output_type": "stream",
          "name": "stdout",
          "text": [
            "False\n",
            "True\n",
            "False\n",
            "True\n",
            "True\n"
          ]
        }
      ]
    },
    {
      "cell_type": "code",
      "source": [
        "dias = int(input(\"degite uma quantidade de dias: \"))\n",
        "import math\n",
        "\n",
        "anos = math.floor(dias / 360)\n",
        "sobraDias = dias % 360\n",
        "meses = math.floor(sobraDias / 30)\n",
        "sobraDias = sobraDias % 30\n",
        "dias = sobraDias\n",
        "\n",
        "print(\"anos: \", anos, \"meses:\", meses, \"dias:\", dias)"
      ],
      "metadata": {
        "colab": {
          "base_uri": "https://localhost:8080/"
        },
        "id": "4AGG6SDUTMs6",
        "outputId": "af39b2c2-f0e5-457c-dcc7-3c43c1e97877"
      },
      "execution_count": 6,
      "outputs": [
        {
          "output_type": "stream",
          "name": "stdout",
          "text": [
            "degite uma quantidade de dias: 650\n",
            "anos:  1 meses: 9 dias: 20\n"
          ]
        }
      ]
    },
    {
      "cell_type": "code",
      "source": [
        "A = 5\n",
        "B = 10\n",
        "C = -8\n",
        "D = 1.5\n",
        "\n",
        "a = 2 * A % 3 - C\n",
        "print(a)\n",
        "\n",
        "b = ( (-2 * C) ** 0.5 ) / 4\n",
        "print(b)\n",
        "\n",
        "c = ((20 / 3)/ 3) + (8**2)/ 2\n",
        "print(c)\n",
        "\n",
        "d = (30 % 4 *(3**3)) * -1\n",
        "print(d)\n",
        "\n",
        "e = (-C ** 2) + (D * 10) / A\n",
        "print(e)\n",
        "\n",
        "f = ((A ** B / A) ** 0.5) + C * D\n",
        "print(f)"
      ],
      "metadata": {
        "colab": {
          "base_uri": "https://localhost:8080/"
        },
        "id": "jUkrMQatTyI1",
        "outputId": "04144476-d03e-4d82-8fae-2494bf9c317e"
      },
      "execution_count": 7,
      "outputs": [
        {
          "output_type": "stream",
          "name": "stdout",
          "text": [
            "9\n",
            "1.0\n",
            "34.22222222222222\n",
            "-54\n",
            "-61.0\n",
            "1385.5424859373686\n"
          ]
        }
      ]
    }
  ]
}